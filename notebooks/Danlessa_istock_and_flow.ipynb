{
  "nbformat": 4,
  "nbformat_minor": 0,
  "metadata": {
    "colab": {
      "name": "cadcad-easy.ipynb",
      "provenance": [],
      "collapsed_sections": []
    },
    "kernelspec": {
      "name": "python3",
      "display_name": "Python 3"
    }
  },
  "cells": [
    {
      "cell_type": "markdown",
      "metadata": {
        "id": "Iwn4nmRpHrcy",
        "colab_type": "text"
      },
      "source": [
        "# Easy Stock and Flow modelling on cadCAD\n",
        "\n",
        "This colab notebook shows an quick try on creating an encapsulated manner for generating stock and flow simulations on cadCAD\n",
        "\n",
        "Authors: \n",
        "* Danilo Lessa Bernardineli (danilo.bernardineli@usp.br)\n",
        "* Danilo Oliveira Vaz (put here)\n",
        "* Add your name here\n"
      ]
    },
    {
      "cell_type": "code",
      "metadata": {
        "id": "4o4sGIX58Xdh",
        "colab_type": "code",
        "colab": {}
      },
      "source": [
        "## Dependences ##\n",
        "%%capture\n",
        "!pip install cadcad\n",
        "\n",
        "from collections import namedtuple\n",
        "from types import SimpleNamespace\n",
        "\n",
        "import pandas as pd\n",
        "import numpy as np\n",
        "import matplotlib.pyplot as plt\n",
        "\n",
        "from cadCAD.configuration import Configuration\n",
        "from cadCAD.engine import ExecutionMode, ExecutionContext, Executor"
      ],
      "execution_count": 0,
      "outputs": []
    },
    {
      "cell_type": "code",
      "metadata": {
        "id": "LEuisJV78X5u",
        "colab_type": "code",
        "colab": {}
      },
      "source": [
        "## Stock / Flow classes ##\n",
        "\n",
        "## Ignore this code block if you just want to do things\n",
        "\n",
        "Relation = namedtuple('relation', ['src', 'dst'])\n",
        "Flow = namedtuple('flow', ['name', 'src', 'dst', 'function', 'policy'])\n",
        "\n",
        "class Stock():\n",
        "  \"\"\"\n",
        "  Stock representing an cadCAD variable / state update function\n",
        "  \"\"\"\n",
        "  count = 0\n",
        "\n",
        "  def __init__(self, name: str, n: float):\n",
        "    self.name = name\n",
        "    self.count = n\n",
        "\n",
        "\n",
        "  def __lshift__(self, other: object):\n",
        "    return Relation(other, self)\n",
        "\n",
        "\n",
        "  def __rshift__(self, other: object):\n",
        "    return Relation(self, other)\n",
        "\n",
        "  def __repr__(self):\n",
        "    return \"Stock(name={}, count={})\".format(self.name, self.count)\n",
        "    \n",
        "\n",
        "class Nowhere(Stock):\n",
        "  \"\"\"\n",
        "  Stock for allowing flows from nowhere.\n",
        "  \"\"\"\n",
        "  count = None\n",
        "  name = \"nowhere\"\n",
        "  def __init__(self):\n",
        "    pass\n",
        "        \n",
        "\n",
        "class System:\n",
        "  \"\"\"\n",
        "  Container for the stocks and flows. Represents an cadCAD configuration.\n",
        "  \"\"\"\n",
        "  nowhere = None\n",
        "  stocks = []\n",
        "  flows = []\n",
        "    \n",
        "  def __init__(self):\n",
        "    self.nowhere = Nowhere()\n",
        "    \n",
        "    \n",
        "  def add_stock(self, name: str, n: float):\n",
        "    \"\"\"\n",
        "    Add a stock on the system instance.\n",
        "    \"\"\"\n",
        "    stock = Stock(name, n)\n",
        "    self.stocks.append(stock)\n",
        "    return stock\n",
        "\n",
        "\n",
        "  def gen_flow_policy(self, relation: Relation, function: callable):\n",
        "    \"\"\"\n",
        "    Generates an cadCAD policy based on the flow and associated stocks.\n",
        "    \"\"\"\n",
        "    def new_function(params, step, sL, s):\n",
        "      y = function(s[relation.src.name], s[relation.dst.name], params[0], s)\n",
        "      return {relation.dst.name: y,\n",
        "              relation.src.name: -y}\n",
        "    return new_function\n",
        "\n",
        "\n",
        "  def add_flow(self, name: str, relation: Relation, function: callable=None):\n",
        "    \"\"\"\n",
        "    Creates an flow in the system. Uses an sum relation by default.\n",
        "    \"\"\"\n",
        "    if function is None:\n",
        "      function = lambda src, dst: src + dst\n",
        "    policy = self.gen_flow_policy(relation, function)\n",
        "    flow = Flow(name, *relation, function, policy)\n",
        "    self.flows.append(flow)\n",
        "        \n",
        "        \n",
        "  def gen_state_update(self, variable_name: str):\n",
        "    \"\"\"\n",
        "    Creates an generic cadCAD state update function.\n",
        "    \"\"\"\n",
        "    def new_function(params, step, sL, s, _input):\n",
        "      y = variable_name\n",
        "      x = s[y]\n",
        "      x += _input.get(y, 0)\n",
        "      return (y, x)\n",
        "    return new_function\n",
        "            \n",
        "\n",
        "  def generate_config(self, initial_state: dict={}, sim_config: dict={}, **kwargs):\n",
        "    \"\"\"\n",
        "    Generates an cadCAD configuration dictionary based on the system instance.\n",
        "    \"\"\"\n",
        "    variables = {}\n",
        "    state_update = {}\n",
        "    variables['nowhere'] = np.inf\n",
        "\n",
        "    # Create variables and partial state update blocks\n",
        "    for stock in self.stocks:\n",
        "      variables[stock.name] = stock.count\n",
        "      state_update[stock.name] = self.gen_state_update(stock.name)\n",
        "    state_update['nowhere'] = lambda params, step, sL, s, _input: ('nowhere', np.inf)\n",
        "\n",
        "    # Create policy update blocks\n",
        "    policies = {}\n",
        "    for flow in self.flows:\n",
        "      policies[flow.name] = flow.policy\n",
        "      partial_state_update_blocks = [{\"policies\": policies,\n",
        "                                      \"variables\": state_update\n",
        "                                      }]\n",
        "    # The configuration dict\n",
        "    config = Configuration(initial_state=variables,\n",
        "                             partial_state_update_blocks=partial_state_update_blocks,\n",
        "                             sim_config=sim_config)\n",
        "    return config\n",
        "\n",
        "    \n",
        "  def run(self, T: int=100, N: int=1, params: dict={}):\n",
        "    \"\"\"\n",
        "    Simulate the system instance on cadCAD on single proc mode.\n",
        "    \"\"\"\n",
        "    sim_config = {'T': range(T),\n",
        "                  'N': N,\n",
        "                  'M': params}\n",
        "    config = self.generate_config(sim_config=sim_config)\n",
        "    exec_mode = ExecutionMode()\n",
        "    exec_context = ExecutionContext(exec_mode.single_proc)\n",
        "    executor = Executor(exec_context, [config]) \n",
        "    raw_result, tensor = executor.execute() \n",
        "    return raw_result"
      ],
      "execution_count": 0,
      "outputs": []
    },
    {
      "cell_type": "code",
      "metadata": {
        "id": "HW7LvYft8Z_V",
        "colab_type": "code",
        "outputId": "589dd484-7dc2-42d3-ac9d-30967d5bc14c",
        "colab": {
          "base_uri": "https://localhost:8080/",
          "height": 451
        }
      },
      "source": [
        "## The actual stock and flow modelling code block ##\n",
        "\n",
        "# System\n",
        "s = System()\n",
        "nowhere = s.nowhere\n",
        "\n",
        "# Stocks\n",
        "prey = s.add_stock('prey', 100)\n",
        "predator = s.add_stock('predator', 10)\n",
        "\n",
        "# Parameters\n",
        "dt = 0.01\n",
        "params = {'prey_birth_rate': 1.0 * dt,\n",
        "          'predator_birth_rate': 0.0 * dt,\n",
        "          'prey_death_rate': 0.03 * dt,\n",
        "          'predator_death_rate': 1.0 * dt,\n",
        "          'prey_predator_interaction': 0.05 * dt}\n",
        "\n",
        "# Flows\n",
        "s.add_flow('1', nowhere >> prey, lambda src, dst, params, s: dst * params['prey_birth_rate'])\n",
        "s.add_flow('2', nowhere >> predator, lambda src, dst, params, s: dst * params['predator_birth_rate'])\n",
        "s.add_flow('3', predator >> nowhere, lambda src, dst, params, s: src * params['predator_death_rate'])\n",
        "s.add_flow('4', prey >> nowhere, lambda src, dst, params, s: src * params['prey_death_rate'])\n",
        "s.add_flow('5', prey >> predator, lambda src, dst, params, s: src * dst * params['prey_predator_interaction'])\n",
        "\n",
        "# Simulation\n",
        "raw_results = pd.DataFrame(s.run(T=3000, params=params))\n",
        "results = raw_results\n",
        "plt.xlabel(\"prey\")\n",
        "plt.ylabel(\"predator\")\n",
        "plt.plot(results.prey, results.predator, '.-')\n",
        "plt.show()"
      ],
      "execution_count": 0,
      "outputs": [
        {
          "output_type": "stream",
          "text": [
            "\n",
            "                            __________   ____ \n",
            "          ________ __ _____/ ____/   |  / __ \\\n",
            "         / ___/ __` / __  / /   / /| | / / / /\n",
            "        / /__/ /_/ / /_/ / /___/ ___ |/ /_/ / \n",
            "        \\___/\\__,_/\\__,_/\\____/_/  |_/_____/  \n",
            "        by BlockScience\n",
            "        \n",
            "Execution Mode: single_proc: [<cadCAD.configuration.Configuration object at 0x7ff001327080>]\n",
            "Configurations: [<cadCAD.configuration.Configuration object at 0x7ff001327080>]\n"
          ],
          "name": "stdout"
        },
        {
          "output_type": "display_data",
          "data": {
            "image/png": "[encoded data removed]",
            "text/plain": [
              "<Figure size 432x288 with 1 Axes>"
            ]
          },
          "metadata": {
            "tags": []
          }
        }
      ]
    },
    {
      "cell_type": "code",
      "metadata": {
        "id": "OMY7JnbQXBUP",
        "colab_type": "code",
        "outputId": "351fb690-df4d-44fe-9668-8ff3a2622260",
        "colab": {
          "base_uri": "https://localhost:8080/",
          "height": 279
        }
      },
      "source": [
        "results = raw_results[-100:]\n",
        "plt.xlabel(\"prey\")\n",
        "plt.ylabel(\"predator\")\n",
        "plt.plot(results.prey, results.predator, '.-')\n",
        "plt.show()"
      ],
      "execution_count": 0,
      "outputs": [
        {
          "output_type": "display_data",
          "data": {
            "image/png": "[encoded data removed]",
            "text/plain": [
              "<Figure size 432x288 with 1 Axes>"
            ]
          },
          "metadata": {
            "tags": []
          }
        }
      ]
    },
    {
      "cell_type": "code",
      "metadata": {
        "id": "LnkkOlzWvwHV",
        "colab_type": "code",
        "colab": {}
      },
      "source": [
        ""
      ],
      "execution_count": 0,
      "outputs": []
    },
    {
      "cell_type": "code",
      "metadata": {
        "id": "H6NlpEEzvwKE",
        "colab_type": "code",
        "outputId": "6c7e8f39-f584-48e9-d678-ae20f09debea",
        "colab": {
          "base_uri": "https://localhost:8080/",
          "height": 51
        }
      },
      "source": [
        "lista = [1, 2, 5, -1]\n",
        "\n",
        "dicionario = {\"a\": 5, \"b\": 9}\n",
        "\n",
        "\n",
        "for nome, valor in dicionario.items():\n",
        "  print(\"{}\\t{:.5f}\".format(nome, valor))"
      ],
      "execution_count": 0,
      "outputs": [
        {
          "output_type": "stream",
          "text": [
            "a\t5.00000\n",
            "b\t9.00000\n"
          ],
          "name": "stdout"
        }
      ]
    },
    {
      "cell_type": "code",
      "metadata": {
        "id": "96J4jEr7vwPk",
        "colab_type": "code",
        "outputId": "acb6db0a-8817-492a-e62d-732c637efaec",
        "colab": {
          "base_uri": "https://localhost:8080/",
          "height": 34
        }
      },
      "source": [
        "parametros = {\"valor_1\": 10,\n",
        "              \"valor_2\": 15}\n",
        "\n",
        "print(\"{valor_1}: {valor_2}\".format(**parametros))"
      ],
      "execution_count": 0,
      "outputs": [
        {
          "output_type": "stream",
          "text": [
            "10: 15\n"
          ],
          "name": "stdout"
        }
      ]
    },
    {
      "cell_type": "code",
      "metadata": {
        "id": "HMUjJLOdvwU1",
        "colab_type": "code",
        "outputId": "ff17b179-55b2-452f-adf4-ff67592ef55a",
        "colab": {
          "base_uri": "https://localhost:8080/",
          "height": 34
        }
      },
      "source": [
        "\"\".join([t.replace(\"q\", \" -\") for t in \"qwert  yuiop\".split(\" \")])"
      ],
      "execution_count": 0,
      "outputs": [
        {
          "output_type": "execute_result",
          "data": {
            "text/plain": [
              "' -wertyuiop'"
            ]
          },
          "metadata": {
            "tags": []
          },
          "execution_count": 16
        }
      ]
    },
    {
      "cell_type": "code",
      "metadata": {
        "id": "B4mpWc8XvwXh",
        "colab_type": "code",
        "outputId": "fc1c786b-e110-4284-97fa-aec34be2e3c6",
        "colab": {
          "base_uri": "https://localhost:8080/",
          "height": 34
        }
      },
      "source": [
        "sujo = \" asdasdqwdqwcwq q d wq    qw q    \" \n",
        "limpo = (sujo.replace(\"a\", \"\")\n",
        "             .replace(\"q\", \"-\")\n",
        "          #   .replace(\"b\", \"c\")\n",
        "             .strip()[::2])\n",
        "print(limpo)"
      ],
      "execution_count": 0,
      "outputs": [
        {
          "output_type": "stream",
          "text": [
            "ss-dww   -  w-\n"
          ],
          "name": "stdout"
        }
      ]
    },
    {
      "cell_type": "code",
      "metadata": {
        "id": "3guZnTXavwSt",
        "colab_type": "code",
        "outputId": "bf1c5c77-407f-4638-8600-9d729e733d1d",
        "colab": {
          "base_uri": "https://localhost:8080/",
          "height": 34
        }
      },
      "source": [
        "limpo"
      ],
      "execution_count": 0,
      "outputs": [
        {
          "output_type": "execute_result",
          "data": {
            "text/plain": [
              "'ssqdww   q  wq'"
            ]
          },
          "metadata": {
            "tags": []
          },
          "execution_count": 21
        }
      ]
    },
    {
      "cell_type": "code",
      "metadata": {
        "id": "dmBvb-devwNv",
        "colab_type": "code",
        "colab": {}
      },
      "source": [
        ""
      ],
      "execution_count": 0,
      "outputs": []
    },
    {
      "cell_type": "code",
      "metadata": {
        "id": "W85RA2eKXhM9",
        "colab_type": "code",
        "outputId": "80cff31b-520f-4077-9608-532bb6c9f0ea",
        "colab": {
          "base_uri": "https://localhost:8080/",
          "height": 419
        }
      },
      "source": [
        "raw_results"
      ],
      "execution_count": 0,
      "outputs": [
        {
          "output_type": "execute_result",
          "data": {
            "text/html": [
              "<div>\n",
              "<style scoped>\n",
              "    .dataframe tbody tr th:only-of-type {\n",
              "        vertical-align: middle;\n",
              "    }\n",
              "\n",
              "    .dataframe tbody tr th {\n",
              "        vertical-align: top;\n",
              "    }\n",
              "\n",
              "    .dataframe thead th {\n",
              "        text-align: right;\n",
              "    }\n",
              "</style>\n",
              "<table border=\"1\" class=\"dataframe\">\n",
              "  <thead>\n",
              "    <tr style=\"text-align: right;\">\n",
              "      <th></th>\n",
              "      <th>nowhere</th>\n",
              "      <th>prey</th>\n",
              "      <th>predator</th>\n",
              "      <th>run</th>\n",
              "      <th>substep</th>\n",
              "      <th>timestep</th>\n",
              "    </tr>\n",
              "  </thead>\n",
              "  <tbody>\n",
              "    <tr>\n",
              "      <th>0</th>\n",
              "      <td>inf</td>\n",
              "      <td>100.000000</td>\n",
              "      <td>10.000000</td>\n",
              "      <td>1</td>\n",
              "      <td>0</td>\n",
              "      <td>0</td>\n",
              "    </tr>\n",
              "    <tr>\n",
              "      <th>1</th>\n",
              "      <td>inf</td>\n",
              "      <td>100.470000</td>\n",
              "      <td>10.400000</td>\n",
              "      <td>1</td>\n",
              "      <td>1</td>\n",
              "      <td>1</td>\n",
              "    </tr>\n",
              "    <tr>\n",
              "      <th>2</th>\n",
              "      <td>inf</td>\n",
              "      <td>100.922115</td>\n",
              "      <td>10.818444</td>\n",
              "      <td>1</td>\n",
              "      <td>1</td>\n",
              "      <td>2</td>\n",
              "    </tr>\n",
              "    <tr>\n",
              "      <th>3</th>\n",
              "      <td>inf</td>\n",
              "      <td>101.355149</td>\n",
              "      <td>11.256170</td>\n",
              "      <td>1</td>\n",
              "      <td>1</td>\n",
              "      <td>3</td>\n",
              "    </tr>\n",
              "    <tr>\n",
              "      <th>4</th>\n",
              "      <td>inf</td>\n",
              "      <td>101.767859</td>\n",
              "      <td>11.714043</td>\n",
              "      <td>1</td>\n",
              "      <td>1</td>\n",
              "      <td>4</td>\n",
              "    </tr>\n",
              "    <tr>\n",
              "      <th>...</th>\n",
              "      <td>...</td>\n",
              "      <td>...</td>\n",
              "      <td>...</td>\n",
              "      <td>...</td>\n",
              "      <td>...</td>\n",
              "      <td>...</td>\n",
              "    </tr>\n",
              "    <tr>\n",
              "      <th>81996</th>\n",
              "      <td>inf</td>\n",
              "      <td>NaN</td>\n",
              "      <td>NaN</td>\n",
              "      <td>1</td>\n",
              "      <td>1</td>\n",
              "      <td>81996</td>\n",
              "    </tr>\n",
              "    <tr>\n",
              "      <th>81997</th>\n",
              "      <td>inf</td>\n",
              "      <td>NaN</td>\n",
              "      <td>NaN</td>\n",
              "      <td>1</td>\n",
              "      <td>1</td>\n",
              "      <td>81997</td>\n",
              "    </tr>\n",
              "    <tr>\n",
              "      <th>81998</th>\n",
              "      <td>inf</td>\n",
              "      <td>NaN</td>\n",
              "      <td>NaN</td>\n",
              "      <td>1</td>\n",
              "      <td>1</td>\n",
              "      <td>81998</td>\n",
              "    </tr>\n",
              "    <tr>\n",
              "      <th>81999</th>\n",
              "      <td>inf</td>\n",
              "      <td>NaN</td>\n",
              "      <td>NaN</td>\n",
              "      <td>1</td>\n",
              "      <td>1</td>\n",
              "      <td>81999</td>\n",
              "    </tr>\n",
              "    <tr>\n",
              "      <th>82000</th>\n",
              "      <td>inf</td>\n",
              "      <td>NaN</td>\n",
              "      <td>NaN</td>\n",
              "      <td>1</td>\n",
              "      <td>1</td>\n",
              "      <td>82000</td>\n",
              "    </tr>\n",
              "  </tbody>\n",
              "</table>\n",
              "<p>82001 rows × 6 columns</p>\n",
              "</div>"
            ],
            "text/plain": [
              "       nowhere        prey   predator  run  substep  timestep\n",
              "0          inf  100.000000  10.000000    1        0         0\n",
              "1          inf  100.470000  10.400000    1        1         1\n",
              "2          inf  100.922115  10.818444    1        1         2\n",
              "3          inf  101.355149  11.256170    1        1         3\n",
              "4          inf  101.767859  11.714043    1        1         4\n",
              "...        ...         ...        ...  ...      ...       ...\n",
              "81996      inf         NaN        NaN    1        1     81996\n",
              "81997      inf         NaN        NaN    1        1     81997\n",
              "81998      inf         NaN        NaN    1        1     81998\n",
              "81999      inf         NaN        NaN    1        1     81999\n",
              "82000      inf         NaN        NaN    1        1     82000\n",
              "\n",
              "[82001 rows x 6 columns]"
            ]
          },
          "metadata": {
            "tags": []
          },
          "execution_count": 35
        }
      ]
    },
    {
      "cell_type": "code",
      "metadata": {
        "id": "7qn7-QsBaose",
        "colab_type": "code",
        "outputId": "73425149-b358-4598-a34a-e198b6f4a7f6",
        "colab": {
          "base_uri": "https://localhost:8080/",
          "height": 34
        }
      },
      "source": [
        "nowhere >> predator"
      ],
      "execution_count": 0,
      "outputs": [
        {
          "output_type": "execute_result",
          "data": {
            "text/plain": [
              "relation(src=Stock(name=nowhere, count=None), dst=Stock(name=predator, count=10))"
            ]
          },
          "metadata": {
            "tags": []
          },
          "execution_count": 7
        }
      ]
    },
    {
      "cell_type": "code",
      "metadata": {
        "id": "PROFtb9poyoK",
        "colab_type": "code",
        "colab": {}
      },
      "source": [
        ""
      ],
      "execution_count": 0,
      "outputs": []
    }
  ]
}