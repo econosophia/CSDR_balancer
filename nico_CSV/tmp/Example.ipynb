{
 "cells": [
  {
   "cell_type": "code",
   "execution_count": 1,
   "metadata": {},
   "outputs": [],
   "source": [
    "import pandas\n",
    "\n",
    "# cadCAD configuration\n",
    "from cadCAD.configuration.utils import config_sim\n",
    "from cadCAD.configuration import Experiment\n",
    "\n",
    "# cadCAD Engine\n",
    "from cadCAD.engine import ExecutionMode, ExecutionContext\n",
    "from cadCAD.engine import Executor\n",
    "\n",
    "# cadCAD global simulation configuration list\n",
    "from cadCAD import configs\n",
    "\n"
   ]
  },
  {
   "cell_type": "code",
   "execution_count": 2,
   "metadata": {},
   "outputs": [],
   "source": [
    "from balancerv2cad.WeightedPool import WeightedPool"
   ]
  },
  {
   "cell_type": "code",
   "execution_count": 3,
   "metadata": {},
   "outputs": [],
   "source": [
    "df = pandas.read_csv('COINBASE_DAIUSD_5.csv')"
   ]
  },
  {
   "cell_type": "code",
   "execution_count": 4,
   "metadata": {},
   "outputs": [
    {
     "data": {
      "text/html": [
       "<div>\n",
       "<style scoped>\n",
       "    .dataframe tbody tr th:only-of-type {\n",
       "        vertical-align: middle;\n",
       "    }\n",
       "\n",
       "    .dataframe tbody tr th {\n",
       "        vertical-align: top;\n",
       "    }\n",
       "\n",
       "    .dataframe thead th {\n",
       "        text-align: right;\n",
       "    }\n",
       "</style>\n",
       "<table border=\"1\" class=\"dataframe\">\n",
       "  <thead>\n",
       "    <tr style=\"text-align: right;\">\n",
       "      <th></th>\n",
       "      <th>time;open;high;low;close;Volume;Volume MA</th>\n",
       "    </tr>\n",
       "  </thead>\n",
       "  <tbody>\n",
       "    <tr>\n",
       "      <th>0</th>\n",
       "      <td>2020-12-07T13:30:00Z;1.005035;1.005035;1.00461...</td>\n",
       "    </tr>\n",
       "    <tr>\n",
       "      <th>1</th>\n",
       "      <td>2020-12-07T13:35:00Z;1.004602;1.00485;1.004601...</td>\n",
       "    </tr>\n",
       "    <tr>\n",
       "      <th>2</th>\n",
       "      <td>2020-12-07T13:40:00Z;1.004764;1.004851;1.00447...</td>\n",
       "    </tr>\n",
       "    <tr>\n",
       "      <th>3</th>\n",
       "      <td>2020-12-07T13:45:00Z;1.004607;1.00485;1.004277...</td>\n",
       "    </tr>\n",
       "    <tr>\n",
       "      <th>4</th>\n",
       "      <td>2020-12-07T13:50:00Z;1.004652;1.004923;1.00456...</td>\n",
       "    </tr>\n",
       "    <tr>\n",
       "      <th>...</th>\n",
       "      <td>...</td>\n",
       "    </tr>\n",
       "    <tr>\n",
       "      <th>25035</th>\n",
       "      <td>2021-03-04T13:50:00Z;1.001945;1.001945;1.00119...</td>\n",
       "    </tr>\n",
       "    <tr>\n",
       "      <th>25036</th>\n",
       "      <td>2021-03-04T13:55:00Z;1.001292;1.001496;1.00119...</td>\n",
       "    </tr>\n",
       "    <tr>\n",
       "      <th>25037</th>\n",
       "      <td>2021-03-04T14:00:00Z;1.001285;1.001596;1.00119...</td>\n",
       "    </tr>\n",
       "    <tr>\n",
       "      <th>25038</th>\n",
       "      <td>2021-03-04T14:05:00Z;1.001451;1.001896;1.00144...</td>\n",
       "    </tr>\n",
       "    <tr>\n",
       "      <th>25039</th>\n",
       "      <td>2021-03-04T14:10:00Z;1.001843;1.001846;1.00180...</td>\n",
       "    </tr>\n",
       "  </tbody>\n",
       "</table>\n",
       "<p>25040 rows × 1 columns</p>\n",
       "</div>"
      ],
      "text/plain": [
       "               time;open;high;low;close;Volume;Volume MA\n",
       "0      2020-12-07T13:30:00Z;1.005035;1.005035;1.00461...\n",
       "1      2020-12-07T13:35:00Z;1.004602;1.00485;1.004601...\n",
       "2      2020-12-07T13:40:00Z;1.004764;1.004851;1.00447...\n",
       "3      2020-12-07T13:45:00Z;1.004607;1.00485;1.004277...\n",
       "4      2020-12-07T13:50:00Z;1.004652;1.004923;1.00456...\n",
       "...                                                  ...\n",
       "25035  2021-03-04T13:50:00Z;1.001945;1.001945;1.00119...\n",
       "25036  2021-03-04T13:55:00Z;1.001292;1.001496;1.00119...\n",
       "25037  2021-03-04T14:00:00Z;1.001285;1.001596;1.00119...\n",
       "25038  2021-03-04T14:05:00Z;1.001451;1.001896;1.00144...\n",
       "25039  2021-03-04T14:10:00Z;1.001843;1.001846;1.00180...\n",
       "\n",
       "[25040 rows x 1 columns]"
      ]
     },
     "execution_count": 4,
     "metadata": {},
     "output_type": "execute_result"
    }
   ],
   "source": [
    "df"
   ]
  },
  {
   "cell_type": "code",
   "execution_count": 6,
   "metadata": {},
   "outputs": [],
   "source": [
    "def p_move_through_time(params, substep, state_history, prev_state):\n",
    "    step = params['timestep']\n",
    "    return {'carbon_price': pandas.iloc['price'][step]}"
   ]
  }
 ],
 "metadata": {
  "kernelspec": {
   "display_name": "Python 3",
   "language": "python",
   "name": "python3"
  },
  "language_info": {
   "codemirror_mode": {
    "name": "ipython",
    "version": 3
   },
   "file_extension": ".py",
   "mimetype": "text/x-python",
   "name": "python",
   "nbconvert_exporter": "python",
   "pygments_lexer": "ipython3",
   "version": "3.8.10"
  }
 },
 "nbformat": 4,
 "nbformat_minor": 4
}
